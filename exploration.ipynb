{
 "cells": [
  {
   "cell_type": "code",
   "execution_count": 23,
   "metadata": {},
   "outputs": [],
   "source": [
    "import matplotlib\n",
    "import numpy as np\n",
    "import matplotlib.pyplot as plt\n",
    "%matplotlib inline"
   ]
  },
  {
   "cell_type": "code",
   "execution_count": 196,
   "metadata": {},
   "outputs": [],
   "source": [
    "matplotlib.rcParams['mathtext.fontset'] = 'cm'\n",
    "matplotlib.rcParams['font.family'] = 'STIXGeneral'\n",
    "matplotlib.rcParams['font.size'] = 12"
   ]
  },
  {
   "cell_type": "code",
   "execution_count": 30,
   "metadata": {},
   "outputs": [],
   "source": [
    "def sample_transition(curr_state, t):\n",
    "    p = pis*(1 - np.exp(-u*t))\n",
    "    idx = curr_state.nonzero()[0][0]\n",
    "    p[idx] = np.exp(-u*t) + p[idx]\n",
    "    return np.eye(K)[np.random.choice(K, p=p)]\n",
    "\n",
    "def compute_phenotype(geno, beta):\n",
    "    return np.sum(geno*beta)"
   ]
  },
  {
   "cell_type": "code",
   "execution_count": 260,
   "metadata": {},
   "outputs": [],
   "source": [
    "L = 10 # Number of loci\n",
    "K = 2 # Number of alleles at each locus\n",
    "pis = np.ones(K) / K # the stationary probabilities (uniform for now)\n",
    "u = 1. / (1 - np.sum(pis**2))\n",
    "\n",
    "beta = np.random.normal(scale=1, size=(L, K)) # Effect size for the each locus"
   ]
  },
  {
   "cell_type": "code",
   "execution_count": 315,
   "metadata": {},
   "outputs": [],
   "source": [
    "def evolve_genotype(g_0, max_t=2., n_steps=1000):\n",
    "    g_t = [g_0.copy()]\n",
    "    for t in np.linspace(0, max_t, n_steps):\n",
    "        g_t.append(np.zeros_like(g_t[-1]))\n",
    "        for j in range(L):\n",
    "            g_t[-1][j] = sample_transition(g_t[-2][j], max_t/n_steps)\n",
    "    \n",
    "    return g_t\n",
    "    "
   ]
  },
  {
   "cell_type": "code",
   "execution_count": 387,
   "metadata": {},
   "outputs": [],
   "source": [
    "def plot_genotype(gt, replicates=None, fig_file=None, expectation=False):\n",
    "    plt.figure(figsize=(6, 4))\n",
    "    fig, axs = plt.subplots(gt.shape[1],  sharex=True, sharey=False)\n",
    "\n",
    "    x_labels = np.linspace(0, 3., gt.shape[0])\n",
    "\n",
    "    for i in range(gt.shape[1]):\n",
    "        if replicates is not None:\n",
    "            for j in range(len(replicates)):\n",
    "                axs[i].plot(x_labels, replicates[j][:, i], lw=.2, c='grey', alpha=0.3)\n",
    "        axs[i].plot(x_labels, gt[:, i], lw=2.)\n",
    "        axs[i].set_yticks([0.5])\n",
    "        if expectation:\n",
    "            axs[i].axhline(y=0.5, linewidth=.5, ls='--', zorder=0, color='grey', alpha=0.3)\n",
    "            axs[i].set_yticklabels(['$E[X_{%d}(t)]$' % (i + 1)])\n",
    "        else:\n",
    "            axs[i].set_yticklabels(['$X_{%d}(t)$' % (i + 1)])\n",
    "        axs[i].set_ylim(-0.3, 1.3)\n",
    "        if i < L-1:\n",
    "            axs[i].get_xaxis().set_visible(False)\n",
    "\n",
    "\n",
    "    plt.xlabel(\"Time (ENS)\")\n",
    "    plt.locator_params(axis='x', nbins=10)\n",
    "    plt.subplots_adjust(wspace=0, hspace=0)\n",
    "    if fig_file is None:\n",
    "        plt.show()\n",
    "    else:\n",
    "        plt.savefig(fig_file)\n",
    "        \n",
    "        \n",
    "def plot_phenotype(gt, beta, fig_file=None):\n",
    "    \n",
    "    x_labels = np.linspace(0, 3., gt.shape[0])\n",
    "    \n",
    "    plt.figure(figsize=(6, 4))\n",
    "    plt.plot(x_labels, [compute_phenotype(gt[i, :], beta[:, 1]) for i in range(gt.shape[0])])\n",
    "    plt.xlabel(\"Time (ENS)\")\n",
    "    plt.ylabel(\"Mean Phenotype - $Z (t)$\")\n",
    "    plt.locator_params(axis='x', nbins=10)\n",
    "    if fig_file is None:\n",
    "        plt.show()\n",
    "    else:\n",
    "        plt.savefig(fig_file)\n",
    "\n",
    "        \n",
    "def plot_ensemble_moments(replicates, beta, mean_fig_file=None, var_fig_file=None):\n",
    "    \n",
    "    tt = replicates[0].shape[0]\n",
    "    \n",
    "    x_labels = np.linspace(0, 3., tt)\n",
    "    \n",
    "    z_t = np.zeros((len(replicates), tt))\n",
    "    \n",
    "    plt.figure(figsize=(6, 4))\n",
    "    for j, r in enumerate(replicates):\n",
    "        z_t[j] = np.array([compute_phenotype(r[i, :], beta[:, 1]) for i in range(tt)])\n",
    "        plt.plot(x_labels, z_t[j],\n",
    "                lw=.5, c='#E8E8E8')\n",
    "        \n",
    "    plt.plot(x_labels, z_t.mean(axis=0),\n",
    "             lw=2.)\n",
    "        \n",
    "    plt.xlabel(\"Time (ENS)\")\n",
    "    plt.ylabel(\"Ensemble Mean - $E[Z (t)]$\")\n",
    "    plt.locator_params(axis='x', nbins=10)\n",
    "    if mean_fig_file is None:\n",
    "        plt.show()\n",
    "    else:\n",
    "        plt.savefig(mean_fig_file)\n",
    "        \n",
    "    plt.figure(figsize=(6, 4))\n",
    "        \n",
    "    plt.plot(x_labels, z_t.var(axis=0),\n",
    "             lw=2.)\n",
    "        \n",
    "    plt.xlabel(\"Time (ENS)\")\n",
    "    plt.ylabel(\"Ensemble Variance - $Var[Z (t)]$\")\n",
    "    plt.locator_params(axis='x', nbins=10)\n",
    "    \n",
    "    if var_fig_file is None:\n",
    "        plt.show()\n",
    "    else:\n",
    "        plt.savefig(var_fig_file)"
   ]
  },
  {
   "cell_type": "markdown",
   "metadata": {},
   "source": [
    "\n",
    "# Evolution of mean phenotype with bi-allelic genetic architecture:"
   ]
  },
  {
   "cell_type": "code",
   "execution_count": 322,
   "metadata": {},
   "outputs": [
    {
     "data": {
      "text/plain": [
       "<Figure size 432x288 with 0 Axes>"
      ]
     },
     "metadata": {},
     "output_type": "display_data"
    },
    {
     "data": {
      "image/png": "[encoded data removed]",
      "text/plain": [
       "<Figure size 432x288 with 10 Axes>"
      ]
     },
     "metadata": {
      "needs_background": "light"
     },
     "output_type": "display_data"
    }
   ],
   "source": [
    "init_geno = np.eye(K)[np.zeros(L).astype(np.int)] # Initial genotype\n",
    "g_t = evolve_genotype(init_geno)\n",
    "g_t = np.array([np.where(g_t[i])[1] for i in range(len(g_t))])\n",
    "plot_genotype(g_t)"
   ]
  },
  {
   "cell_type": "code",
   "execution_count": 323,
   "metadata": {},
   "outputs": [
    {
     "data": {
      "image/png": "[encoded data removed]",
      "text/plain": [
       "<Figure size 432x288 with 1 Axes>"
      ]
     },
     "metadata": {
      "needs_background": "light"
     },
     "output_type": "display_data"
    }
   ],
   "source": [
    "plot_phenotype(g_t, beta)"
   ]
  },
  {
   "cell_type": "code",
   "execution_count": 261,
   "metadata": {},
   "outputs": [
    {
     "data": {
      "image/png": "[encoded data removed]",
      "text/plain": [
       "<Figure size 72x288 with 1 Axes>"
      ]
     },
     "metadata": {
      "needs_background": "light"
     },
     "output_type": "display_data"
    }
   ],
   "source": [
    "plt.figure(figsize=(1, 4))\n",
    "plt.imshow(beta[:, 1:], cmap='RdBu', alpha=0.5, aspect='auto')\n",
    "plt.xticks([])\n",
    "plt.yticks(np.arange(L), ['$\\\\beta_{%d}$' % (i + 1) for i in range(L)])\n",
    "for j in range(len(beta)):\n",
    "    text = plt.text(0, j, np.round(beta[j, 1], 2),\n",
    "                   ha=\"center\", va=\"center\", color=\"black\")\n",
    "plt.tight_layout(pad=0.2)\n",
    "plt.savefig(\"./appendix_vis/fig1_b.svg\")"
   ]
  },
  {
   "cell_type": "markdown",
   "metadata": {},
   "source": [
    "# Moments of Mean Phenotype"
   ]
  },
  {
   "cell_type": "code",
   "execution_count": 376,
   "metadata": {},
   "outputs": [],
   "source": [
    "n_replicates=100\n",
    "\n",
    "#init_geno = np.eye(K)[np.random.choice(2, size=L, p=[0.9, 0.1]).astype(np.int)] # Initial genotype\n",
    "init_geno = np.eye(K)[np.array([1, 1, 1, 0, 0, 0, 0, 0, 0, 0])]\n",
    "\n",
    "res = []\n",
    "\n",
    "for _ in  range(n_replicates):\n",
    "    gt = evolve_genotype(init_geno)\n",
    "    res.append(np.array([np.where(gt[i])[1] for i in range(len(gt))]))\n"
   ]
  },
  {
   "cell_type": "code",
   "execution_count": 390,
   "metadata": {},
   "outputs": [
    {
     "data": {
      "text/plain": [
       "<Figure size 432x288 with 0 Axes>"
      ]
     },
     "metadata": {},
     "output_type": "display_data"
    },
    {
     "data": {
      "image/png": "[encoded data removed]",
      "text/plain": [
       "<Figure size 432x288 with 10 Axes>"
      ]
     },
     "metadata": {
      "needs_background": "light"
     },
     "output_type": "display_data"
    }
   ],
   "source": [
    "expected_genotype = np.zeros_like(res[0])\n",
    "for i in range(n_replicates):\n",
    "    expected_genotype += res[i]\n",
    "    \n",
    "plot_genotype(expected_genotype / n_replicates, fig_file=\"./appendix_vis/fig3a.svg\", expectation=True)"
   ]
  },
  {
   "cell_type": "code",
   "execution_count": 389,
   "metadata": {},
   "outputs": [
    {
     "data": {
      "image/png": "[encoded data removed]",
      "text/plain": [
       "<Figure size 432x288 with 1 Axes>"
      ]
     },
     "metadata": {
      "needs_background": "light"
     },
     "output_type": "display_data"
    },
    {
     "data": {
      "image/png": "[encoded data removed]",
      "text/plain": [
       "<Figure size 432x288 with 1 Axes>"
      ]
     },
     "metadata": {
      "needs_background": "light"
     },
     "output_type": "display_data"
    }
   ],
   "source": [
    "plot_ensemble_moments(res, beta, mean_fig_file=\"./appendix_vis/fig3b.svg\", var_fig_file=\"./appendix_vis/fig3c.svg\")"
   ]
  },
  {
   "cell_type": "code",
   "execution_count": 21,
   "metadata": {},
   "outputs": [],
   "source": [
    "from Bio import Phylo\n",
    "import pandas as pd\n",
    "import numpy as np\n",
    "\n",
    "tree = Phylo.read(\"/Users/szabad/geospiza.tree\", \"newick\")\n",
    "data = pd.read_csv(\"/Users/szabad/geospiza.dat\", index_col=0)"
   ]
  },
  {
   "cell_type": "code",
   "execution_count": 123,
   "metadata": {},
   "outputs": [
    {
     "data": {
      "text/plain": [
       "{'Optimization': {'Success': True,\n",
       "  'Message': b'CONVERGENCE: REL_REDUCTION_OF_F_<=_FACTR*EPSMCH'},\n",
       " 'Loglikelihood': -5.608715915116547,\n",
       " 'DOF': 5,\n",
       " 'AIC': 21.217431830233096,\n",
       " 'AIC.c': 31.217431830233096,\n",
       " 'BIC': 23.641965079173097,\n",
       " 'Parameters': {'Z0': 2.022322178438014,\n",
       "  'Zeq': 1.8685537389997444,\n",
       "  'Psi': 0.06713019030061128,\n",
       "  'sigma_eq': 0.2998038681887233,\n",
       "  'u': 1.8239396810783741}}"
      ]
     },
     "execution_count": 123,
     "metadata": {},
     "output_type": "execute_result"
    }
   ],
   "source": [
    "nm = NeutralModel(data['beakD'], tree)\n",
    "nm.fit()"
   ]
  },
  {
   "cell_type": "code",
   "execution_count": 126,
   "metadata": {},
   "outputs": [
    {
     "data": {
      "text/plain": [
       "{'Optimization': {'Success': True,\n",
       "  'Message': b'CONVERGENCE: REL_REDUCTION_OF_F_<=_FACTR*EPSMCH'},\n",
       " 'Loglikelihood': -5.604653652198072,\n",
       " 'DOF': 3,\n",
       " 'AIC': 17.209307304396145,\n",
       " 'AIC.c': 20.209307304396145,\n",
       " 'BIC': 18.664027253760146,\n",
       " 'Parameters': {'Zeq': 1.9183909990950805,\n",
       "  'sigma': 0.9544306778726939,\n",
       "  'alpha': 2.0265550004444206}}"
      ]
     },
     "execution_count": 126,
     "metadata": {},
     "output_type": "execute_result"
    }
   ],
   "source": [
    "ou = OU(data['beakD'], tree, equilibrium_z0=True)\n",
    "ou.fit()"
   ]
  },
  {
   "cell_type": "code",
   "execution_count": 125,
   "metadata": {},
   "outputs": [
    {
     "data": {
      "text/plain": [
       "{'Optimization': {'Success': True,\n",
       "  'Message': b'CONVERGENCE: NORM_OF_PROJECTED_GRADIENT_<=_PGTOL'},\n",
       " 'Loglikelihood': -6.037022935770681,\n",
       " 'DOF': 2,\n",
       " 'AIC': 16.07404587154136,\n",
       " 'AIC.c': 17.407379204874694,\n",
       " 'BIC': 17.04385917111736,\n",
       " 'Parameters': {'Z0': 1.8331108917656214, 'sigma': 0.5834618372935301}}"
      ]
     },
     "execution_count": 125,
     "metadata": {},
     "output_type": "execute_result"
    }
   ],
   "source": [
    "bm = BM(data['beakD'], tree)\n",
    "bm.fit()"
   ]
  },
  {
   "cell_type": "code",
   "execution_count": 55,
   "metadata": {},
   "outputs": [
    {
     "data": {
      "text/html": [
       "<div>\n",
       "<style scoped>\n",
       "    .dataframe tbody tr th:only-of-type {\n",
       "        vertical-align: middle;\n",
       "    }\n",
       "\n",
       "    .dataframe tbody tr th {\n",
       "        vertical-align: top;\n",
       "    }\n",
       "\n",
       "    .dataframe thead th {\n",
       "        text-align: right;\n",
       "    }\n",
       "</style>\n",
       "<table border=\"1\" class=\"dataframe\">\n",
       "  <thead>\n",
       "    <tr style=\"text-align: right;\">\n",
       "      <th></th>\n",
       "      <th>wingL</th>\n",
       "      <th>tarsusL</th>\n",
       "      <th>culmenL</th>\n",
       "      <th>beakD</th>\n",
       "      <th>gonysW</th>\n",
       "    </tr>\n",
       "  </thead>\n",
       "  <tbody>\n",
       "    <tr>\n",
       "      <th>count</th>\n",
       "      <td>13.000000</td>\n",
       "      <td>13.000000</td>\n",
       "      <td>13.000000</td>\n",
       "      <td>13.000000</td>\n",
       "      <td>13.000000</td>\n",
       "    </tr>\n",
       "    <tr>\n",
       "      <th>mean</th>\n",
       "      <td>4.235734</td>\n",
       "      <td>2.991318</td>\n",
       "      <td>2.332751</td>\n",
       "      <td>2.082827</td>\n",
       "      <td>2.014043</td>\n",
       "    </tr>\n",
       "    <tr>\n",
       "      <th>std</th>\n",
       "      <td>0.118462</td>\n",
       "      <td>0.113506</td>\n",
       "      <td>0.232669</td>\n",
       "      <td>0.414684</td>\n",
       "      <td>0.326984</td>\n",
       "    </tr>\n",
       "    <tr>\n",
       "      <th>min</th>\n",
       "      <td>3.975393</td>\n",
       "      <td>2.806514</td>\n",
       "      <td>1.974420</td>\n",
       "      <td>1.191264</td>\n",
       "      <td>1.401186</td>\n",
       "    </tr>\n",
       "    <tr>\n",
       "      <th>25%</th>\n",
       "      <td>4.188600</td>\n",
       "      <td>2.929033</td>\n",
       "      <td>2.187000</td>\n",
       "      <td>1.941157</td>\n",
       "      <td>1.845379</td>\n",
       "    </tr>\n",
       "    <tr>\n",
       "      <th>50%</th>\n",
       "      <td>4.235020</td>\n",
       "      <td>2.980200</td>\n",
       "      <td>2.311100</td>\n",
       "      <td>2.073400</td>\n",
       "      <td>1.962100</td>\n",
       "    </tr>\n",
       "    <tr>\n",
       "      <th>75%</th>\n",
       "      <td>4.265425</td>\n",
       "      <td>3.038950</td>\n",
       "      <td>2.430250</td>\n",
       "      <td>2.347471</td>\n",
       "      <td>2.221867</td>\n",
       "    </tr>\n",
       "    <tr>\n",
       "      <th>max</th>\n",
       "      <td>4.419686</td>\n",
       "      <td>3.270543</td>\n",
       "      <td>2.724667</td>\n",
       "      <td>2.823767</td>\n",
       "      <td>2.675983</td>\n",
       "    </tr>\n",
       "  </tbody>\n",
       "</table>\n",
       "</div>"
      ],
      "text/plain": [
       "           wingL    tarsusL    culmenL      beakD     gonysW\n",
       "count  13.000000  13.000000  13.000000  13.000000  13.000000\n",
       "mean    4.235734   2.991318   2.332751   2.082827   2.014043\n",
       "std     0.118462   0.113506   0.232669   0.414684   0.326984\n",
       "min     3.975393   2.806514   1.974420   1.191264   1.401186\n",
       "25%     4.188600   2.929033   2.187000   1.941157   1.845379\n",
       "50%     4.235020   2.980200   2.311100   2.073400   1.962100\n",
       "75%     4.265425   3.038950   2.430250   2.347471   2.221867\n",
       "max     4.419686   3.270543   2.724667   2.823767   2.675983"
      ]
     },
     "execution_count": 55,
     "metadata": {},
     "output_type": "execute_result"
    }
   ],
   "source": [
    "data.describe()"
   ]
  },
  {
   "cell_type": "code",
   "execution_count": 4,
   "metadata": {},
   "outputs": [
    {
     "name": "stdout",
     "output_type": "stream",
     "text": [
      "The autoreload extension is already loaded. To reload it, use:\n",
      "  %reload_ext autoreload\n"
     ]
    },
    {
     "data": {
      "text/plain": [
       "{'MSE': array([2.29862744]), 'RMSE': array([1.5161225])}"
      ]
     },
     "execution_count": 4,
     "metadata": {},
     "output_type": "execute_result"
    }
   ],
   "source": [
    "from gp_models.gp_models import *\n",
    "\n",
    "nm = NeutralModel(data['beakD'], tree)\n",
    "nm.fit_loco()"
   ]
  },
  {
   "cell_type": "code",
   "execution_count": 6,
   "metadata": {},
   "outputs": [
    {
     "data": {
      "text/plain": [
       "{'MSE': array([2.19506158]), 'RMSE': array([1.48157402])}"
      ]
     },
     "execution_count": 6,
     "metadata": {},
     "output_type": "execute_result"
    }
   ],
   "source": [
    "nm = BM(data['beakD'], tree)\n",
    "nm.fit_loco()"
   ]
  },
  {
   "cell_type": "code",
   "execution_count": 8,
   "metadata": {},
   "outputs": [
    {
     "data": {
      "text/plain": [
       "{'MSE': array([2.55535798]), 'RMSE': array([1.59854871])}"
      ]
     },
     "execution_count": 8,
     "metadata": {},
     "output_type": "execute_result"
    }
   ],
   "source": [
    "nm = OU(data['beakD'], tree)\n",
    "nm.fit_loco()"
   ]
  },
  {
   "cell_type": "code",
   "execution_count": 136,
   "metadata": {},
   "outputs": [
    {
     "data": {
      "text/html": [
       "<div>\n",
       "<style scoped>\n",
       "    .dataframe tbody tr th:only-of-type {\n",
       "        vertical-align: middle;\n",
       "    }\n",
       "\n",
       "    .dataframe tbody tr th {\n",
       "        vertical-align: top;\n",
       "    }\n",
       "\n",
       "    .dataframe thead th {\n",
       "        text-align: right;\n",
       "    }\n",
       "</style>\n",
       "<table border=\"1\" class=\"dataframe\">\n",
       "  <thead>\n",
       "    <tr style=\"text-align: right;\">\n",
       "      <th></th>\n",
       "      <th>wingL</th>\n",
       "      <th>tarsusL</th>\n",
       "      <th>culmenL</th>\n",
       "      <th>beakD</th>\n",
       "      <th>gonysW</th>\n",
       "    </tr>\n",
       "  </thead>\n",
       "  <tbody>\n",
       "    <tr>\n",
       "      <th>magnirostris</th>\n",
       "      <td>4.404200</td>\n",
       "      <td>3.038950</td>\n",
       "      <td>2.724667</td>\n",
       "      <td>2.823767</td>\n",
       "      <td>2.675983</td>\n",
       "    </tr>\n",
       "    <tr>\n",
       "      <th>conirostris</th>\n",
       "      <td>4.349867</td>\n",
       "      <td>2.984200</td>\n",
       "      <td>2.654400</td>\n",
       "      <td>2.513800</td>\n",
       "      <td>2.360167</td>\n",
       "    </tr>\n",
       "    <tr>\n",
       "      <th>difficilis</th>\n",
       "      <td>4.224067</td>\n",
       "      <td>2.898917</td>\n",
       "      <td>2.277183</td>\n",
       "      <td>2.011100</td>\n",
       "      <td>1.929983</td>\n",
       "    </tr>\n",
       "    <tr>\n",
       "      <th>scandens</th>\n",
       "      <td>4.261222</td>\n",
       "      <td>2.929033</td>\n",
       "      <td>2.621789</td>\n",
       "      <td>2.144700</td>\n",
       "      <td>2.036944</td>\n",
       "    </tr>\n",
       "    <tr>\n",
       "      <th>fortis</th>\n",
       "      <td>4.244008</td>\n",
       "      <td>2.894717</td>\n",
       "      <td>2.407025</td>\n",
       "      <td>2.362658</td>\n",
       "      <td>2.221867</td>\n",
       "    </tr>\n",
       "    <tr>\n",
       "      <th>fuliginosa</th>\n",
       "      <td>4.132957</td>\n",
       "      <td>2.806514</td>\n",
       "      <td>2.094971</td>\n",
       "      <td>1.941157</td>\n",
       "      <td>1.845379</td>\n",
       "    </tr>\n",
       "    <tr>\n",
       "      <th>pallida</th>\n",
       "      <td>4.265425</td>\n",
       "      <td>3.089450</td>\n",
       "      <td>2.430250</td>\n",
       "      <td>2.016350</td>\n",
       "      <td>1.949125</td>\n",
       "    </tr>\n",
       "    <tr>\n",
       "      <th>fusca</th>\n",
       "      <td>3.975393</td>\n",
       "      <td>2.936536</td>\n",
       "      <td>2.051843</td>\n",
       "      <td>1.191264</td>\n",
       "      <td>1.401186</td>\n",
       "    </tr>\n",
       "    <tr>\n",
       "      <th>parvulus</th>\n",
       "      <td>4.131600</td>\n",
       "      <td>2.973060</td>\n",
       "      <td>1.974420</td>\n",
       "      <td>1.873540</td>\n",
       "      <td>1.813340</td>\n",
       "    </tr>\n",
       "    <tr>\n",
       "      <th>pauper</th>\n",
       "      <td>4.232500</td>\n",
       "      <td>3.035900</td>\n",
       "      <td>2.187000</td>\n",
       "      <td>2.073400</td>\n",
       "      <td>1.962100</td>\n",
       "    </tr>\n",
       "    <tr>\n",
       "      <th>Pinaroloxias</th>\n",
       "      <td>4.188600</td>\n",
       "      <td>2.980200</td>\n",
       "      <td>2.311100</td>\n",
       "      <td>1.547500</td>\n",
       "      <td>1.630100</td>\n",
       "    </tr>\n",
       "    <tr>\n",
       "      <th>Platyspiza</th>\n",
       "      <td>4.419686</td>\n",
       "      <td>3.270543</td>\n",
       "      <td>2.331471</td>\n",
       "      <td>2.347471</td>\n",
       "      <td>2.282443</td>\n",
       "    </tr>\n",
       "    <tr>\n",
       "      <th>psittacula</th>\n",
       "      <td>4.235020</td>\n",
       "      <td>3.049120</td>\n",
       "      <td>2.259640</td>\n",
       "      <td>2.230040</td>\n",
       "      <td>2.073940</td>\n",
       "    </tr>\n",
       "  </tbody>\n",
       "</table>\n",
       "</div>"
      ],
      "text/plain": [
       "                 wingL   tarsusL   culmenL     beakD    gonysW\n",
       "magnirostris  4.404200  3.038950  2.724667  2.823767  2.675983\n",
       "conirostris   4.349867  2.984200  2.654400  2.513800  2.360167\n",
       "difficilis    4.224067  2.898917  2.277183  2.011100  1.929983\n",
       "scandens      4.261222  2.929033  2.621789  2.144700  2.036944\n",
       "fortis        4.244008  2.894717  2.407025  2.362658  2.221867\n",
       "fuliginosa    4.132957  2.806514  2.094971  1.941157  1.845379\n",
       "pallida       4.265425  3.089450  2.430250  2.016350  1.949125\n",
       "fusca         3.975393  2.936536  2.051843  1.191264  1.401186\n",
       "parvulus      4.131600  2.973060  1.974420  1.873540  1.813340\n",
       "pauper        4.232500  3.035900  2.187000  2.073400  1.962100\n",
       "Pinaroloxias  4.188600  2.980200  2.311100  1.547500  1.630100\n",
       "Platyspiza    4.419686  3.270543  2.331471  2.347471  2.282443\n",
       "psittacula    4.235020  3.049120  2.259640  2.230040  2.073940"
      ]
     },
     "execution_count": 136,
     "metadata": {},
     "output_type": "execute_result"
    }
   ],
   "source": [
    "data"
   ]
  },
  {
   "cell_type": "code",
   "execution_count": 40,
   "metadata": {},
   "outputs": [
    {
     "name": "stdout",
     "output_type": "stream",
     "text": [
      "The autoreload extension is already loaded. To reload it, use:\n",
      "  %reload_ext autoreload\n"
     ]
    }
   ],
   "source": [
    "from gp_models.gp_models import NeutralModel, OU, BM\n",
    "%load_ext autoreload\n",
    "%autoreload 2"
   ]
  },
  {
   "cell_type": "code",
   "execution_count": 9,
   "metadata": {},
   "outputs": [
    {
     "data": {
      "text/plain": [
       "{'Optimization': {'Success': True,\n",
       "  'Message': b'CONVERGENCE: NORM_OF_PROJECTED_GRADIENT_<=_PGTOL'},\n",
       " 'Loglikelihood': -6.165366779905785,\n",
       " 'DOF': 3,\n",
       " 'AIC': 18.33073355981157,\n",
       " 'AIC.c': 20.997400226478238,\n",
       " 'BIC': 20.02558163219618,\n",
       " 'Parameters': {'Z0': 0.029127152674909885,\n",
       "  'Zeq': 3.5,\n",
       "  'Psi': 1e-12,\n",
       "  'sigma_eq': 0.76034782785505,\n",
       "  'u': 1.37}}"
      ]
     },
     "execution_count": 9,
     "metadata": {},
     "output_type": "execute_result"
    }
   ],
   "source": [
    "NeutralModel(data['beakD'], tree, fixed_params={'u': 1.37, 'Zeq': 3.5}).fit()"
   ]
  },
  {
   "cell_type": "code",
   "execution_count": 19,
   "metadata": {},
   "outputs": [
    {
     "data": {
      "text/plain": [
       "{'Optimization': {'Success': True,\n",
       "  'Message': b'CONVERGENCE: REL_REDUCTION_OF_F_<=_FACTR*EPSMCH'},\n",
       " 'Loglikelihood': 131.79868019120283,\n",
       " 'DOF': 2,\n",
       " 'AIC': -259.59736038240567,\n",
       " 'AIC.c': -259.27303605808135,\n",
       " 'BIC': -256.2196014741778,\n",
       " 'Parameters': {'Z0': 0.45064921905129823,\n",
       "  'Zeq': 0.36,\n",
       "  'Psi': 0.001466726654975338,\n",
       "  'sigma_eq': 0.000288,\n",
       "  'u': 1.37}}"
      ]
     },
     "execution_count": 19,
     "metadata": {},
     "output_type": "execute_result"
    }
   ],
   "source": [
    "erv_data = pd.read_csv(\"ancient_erv_analysis/data/3_q_traits/2_simulated_sequences/segment_7916_8695/traits.csv\", index_col=0).T\n",
    "erv_tree = Phylo.read(\"ancient_erv_analysis/metadata/segment_trees/paml_inferred/segment_7916_8695.nwk\", \"newick\")\n",
    "\n",
    "nm = NeutralModel(erv_data['gc_content'], erv_tree, fixed_params={'u': 1.37, 'Zeq': 0.36, 'sigma_eq': 0.000288})\n",
    "nm.fit()"
   ]
  },
  {
   "cell_type": "code",
   "execution_count": 36,
   "metadata": {},
   "outputs": [
    {
     "data": {
      "text/plain": [
       "{'Optimization': {'Success': True,\n",
       "  'Message': b'CONVERGENCE: REL_REDUCTION_OF_F_<=_FACTR*EPSMCH'},\n",
       " 'Loglikelihood': 133.3038790819269,\n",
       " 'DOF': 2,\n",
       " 'AIC': -262.6077581638538,\n",
       " 'AIC.c': -262.2834338395295,\n",
       " 'BIC': -259.22999925562596,\n",
       " 'Parameters': {'Z0': 0.4286605308041588,\n",
       "  'Zeq': 0.44,\n",
       "  'Psi': 0.0013519381029283538,\n",
       "  'sigma_eq': 0.00031,\n",
       "  'u': 1.34}}"
      ]
     },
     "execution_count": 36,
     "metadata": {},
     "output_type": "execute_result"
    }
   ],
   "source": [
    "nm = NeutralModel(erv_data['gc_content'], erv_tree, fixed_params={'u': 1.34, 'Zeq': 0.44, 'sigma_eq': 0.00031})\n",
    "nm.fit()"
   ]
  },
  {
   "cell_type": "code",
   "execution_count": 37,
   "metadata": {},
   "outputs": [
    {
     "data": {
      "text/plain": [
       "{'Optimization': {'Success': True,\n",
       "  'Message': b'CONVERGENCE: REL_REDUCTION_OF_F_<=_FACTR*EPSMCH'},\n",
       " 'Loglikelihood': 134.25707429348367,\n",
       " 'DOF': 4,\n",
       " 'AIC': -260.51414858696734,\n",
       " 'AIC.c': -259.37129144411017,\n",
       " 'BIC': -253.7586307705116,\n",
       " 'Parameters': {'Z0': 0.4297984876708193,\n",
       "  'Zeq': 0.4359537231454264,\n",
       "  'Psi': 9.99999997437784e-13,\n",
       "  'sigma_eq': 0.0025563088548873187,\n",
       "  'u': 1.34}}"
      ]
     },
     "execution_count": 37,
     "metadata": {},
     "output_type": "execute_result"
    }
   ],
   "source": [
    "nm = NeutralModel(erv_data['gc_content'], erv_tree, fixed_params={'u': 1.34})\n",
    "nm.fit()"
   ]
  },
  {
   "cell_type": "code",
   "execution_count": 38,
   "metadata": {},
   "outputs": [
    {
     "data": {
      "text/plain": [
       "{'Optimization': {'Success': True,\n",
       "  'Message': b'CONVERGENCE: REL_REDUCTION_OF_F_<=_FACTR*EPSMCH'},\n",
       " 'Loglikelihood': 134.90977876586916,\n",
       " 'DOF': 5,\n",
       " 'AIC': -259.8195575317383,\n",
       " 'AIC.c': -258.0548516493854,\n",
       " 'BIC': -251.37516026116865,\n",
       " 'Parameters': {'Z0': 0.4298567820580272,\n",
       "  'Zeq': 0.4341898649481175,\n",
       "  'Psi': 9.999999960041972e-13,\n",
       "  'sigma_eq': 0.0012508851221227223,\n",
       "  'u': 2.0}}"
      ]
     },
     "execution_count": 38,
     "metadata": {},
     "output_type": "execute_result"
    }
   ],
   "source": [
    "nm = NeutralModel(erv_data['gc_content'], erv_tree)\n",
    "nm.fit()"
   ]
  },
  {
   "cell_type": "code",
   "execution_count": 41,
   "metadata": {},
   "outputs": [
    {
     "data": {
      "text/plain": [
       "{'Optimization': {'Success': True,\n",
       "  'Message': b'CONVERGENCE: REL_REDUCTION_OF_F_<=_FACTR*EPSMCH'},\n",
       " 'Loglikelihood': 139.7563195304113,\n",
       " 'DOF': 4,\n",
       " 'AIC': -271.5126390608226,\n",
       " 'AIC.c': -270.36978191796544,\n",
       " 'BIC': -264.7571212443669,\n",
       " 'Parameters': {'Z0': 0.4294136384780781,\n",
       "  'Zeq': 0.4320629759227744,\n",
       "  'sigma': 0.003293928936528404,\n",
       "  'alpha': 18.468859845082363}}"
      ]
     },
     "execution_count": 41,
     "metadata": {},
     "output_type": "execute_result"
    }
   ],
   "source": [
    "ou = OU(erv_data['gc_content'], erv_tree)\n",
    "ou.fit()"
   ]
  },
  {
   "cell_type": "code",
   "execution_count": 44,
   "metadata": {},
   "outputs": [
    {
     "data": {
      "text/plain": [
       "{'Optimization': {'Success': True,\n",
       "  'Message': b'CONVERGENCE: REL_REDUCTION_OF_F_<=_FACTR*EPSMCH'},\n",
       " 'Loglikelihood': 139.7548962775069,\n",
       " 'DOF': 3,\n",
       " 'AIC': -273.5097925550138,\n",
       " 'AIC.c': -272.8431258883471,\n",
       " 'BIC': -268.443154192672,\n",
       " 'Parameters': {'Zeq': 0.43201396720676144,\n",
       "  'sigma': 0.003283819918767566,\n",
       "  'alpha': 18.382295122779674}}"
      ]
     },
     "execution_count": 44,
     "metadata": {},
     "output_type": "execute_result"
    }
   ],
   "source": [
    "ou = OU(erv_data['gc_content'], erv_tree, equilibrium_z0=True)\n",
    "ou.fit()"
   ]
  },
  {
   "cell_type": "code",
   "execution_count": 43,
   "metadata": {},
   "outputs": [
    {
     "data": {
      "text/plain": [
       "{'Optimization': {'Success': True,\n",
       "  'Message': b'CONVERGENCE: REL_REDUCTION_OF_F_<=_FACTR*EPSMCH'},\n",
       " 'Loglikelihood': 131.68912822706005,\n",
       " 'DOF': 2,\n",
       " 'AIC': -259.3782564541201,\n",
       " 'AIC.c': -259.0539321297958,\n",
       " 'BIC': -256.00049754589224,\n",
       " 'Parameters': {'Z0': 0.43090571681745277, 'sigma': 0.0015004967278711004}}"
      ]
     },
     "execution_count": 43,
     "metadata": {},
     "output_type": "execute_result"
    }
   ],
   "source": [
    "bm = BM(erv_data['gc_content'], erv_tree)\n",
    "bm.fit()"
   ]
  },
  {
   "cell_type": "code",
   "execution_count": 27,
   "metadata": {},
   "outputs": [
    {
     "data": {
      "text/plain": [
       "1.339764201500536"
      ]
     },
     "execution_count": 27,
     "metadata": {},
     "output_type": "execute_result"
    }
   ],
   "source": [
    "1./(1. - (np.array([0.28,0.22,0.22,0.28])**2).sum())"
   ]
  },
  {
   "cell_type": "code",
   "execution_count": 35,
   "metadata": {},
   "outputs": [
    {
     "data": {
      "text/plain": [
       "0.00030800000000000006"
      ]
     },
     "execution_count": 35,
     "metadata": {},
     "output_type": "execute_result"
    }
   ],
   "source": [
    "(1./800)*.44*(1. - .44)"
   ]
  },
  {
   "cell_type": "code",
   "execution_count": 24,
   "metadata": {},
   "outputs": [
    {
     "data": {
      "text/plain": [
       "[<matplotlib.lines.Line2D at 0x7fe712a7a4d0>]"
      ]
     },
     "execution_count": 24,
     "metadata": {},
     "output_type": "execute_result"
    },
    {
     "data": {
      "image/png": "[encoded data removed]",
      "text/plain": [
       "<Figure size 432x288 with 1 Axes>"
      ]
     },
     "metadata": {
      "needs_background": "light"
     },
     "output_type": "display_data"
    }
   ],
   "source": [
    "z0 = np.linspace(0., 1., 100)\n",
    "L = 800\n",
    "\n",
    "psi = (1./L)*(0.36 + z0 -2.*z0*0.36)\n",
    "\n",
    "nll = []\n",
    "\n",
    "for i in range(100):\n",
    "    nm.z0 = z0[i]\n",
    "    nm.psi = psi[i]\n",
    "    nll.append(nm.nll())\n",
    "    \n",
    "plt.plot(z0, nll)"
   ]
  },
  {
   "cell_type": "code",
   "execution_count": 25,
   "metadata": {},
   "outputs": [
    {
     "data": {
      "text/plain": [
       "0.0006075000000000001"
      ]
     },
     "execution_count": 25,
     "metadata": {},
     "output_type": "execute_result"
    }
   ],
   "source": [
    "(1./L)*(0.36 + 0.45 -2.*0.45*0.36)"
   ]
  },
  {
   "cell_type": "code",
   "execution_count": 15,
   "metadata": {},
   "outputs": [
    {
     "data": {
      "text/plain": [
       "779"
      ]
     },
     "execution_count": 15,
     "metadata": {},
     "output_type": "execute_result"
    }
   ],
   "source": [
    "8695 - 7916"
   ]
  },
  {
   "cell_type": "code",
   "execution_count": 31,
   "metadata": {},
   "outputs": [
    {
     "data": {
      "text/plain": [
       "0.4256410256410256"
      ]
     },
     "execution_count": 31,
     "metadata": {},
     "output_type": "execute_result"
    }
   ],
   "source": [
    "seq = \"ACAGTTTGCTTGTCTTGAAGGGACAACAAAATACATTTACAGTTTTGCCCCAGGGCTATGTTAACTCTCTCACCCTCTGTCATAATACAGTCTGAAGAGATCTGGACCACCATGAGGACCTAGACATTCCACAGAATTACAGAACAACACACTGGTCCACTATATTGATGACATTGTGCTAATCAGACCAGATGAGCAAGAAATGACCAGCATACTGGAGGCCTTGGTAAGATACACGTGCTCCAAGGCATGGGTGATTAAATCCTACAAAGATACAGGGGCCTGCCATGTCAGTAAAGGTTTCTTTTAGGGGTCCCAGCAAGGGAGGCATATTAGCACAGAGGTCAAGAGAACAGTCCTTGGCTGTTCTCTGCCAAGCAAAGAGTAGGTGCTCAGAAATTGGGAGTTAATGTGATTATGGTACTGATGATAATTATAACTTTTGGAGTTTGGAAGACCTGGCCCTGCATCTGCTGTTAACCTGCCCATGTCTTTAAGTCATTAACTTTGTTAATGCCATGTGGCAATATGATGCCTTGGATTTCGAATACTGGAGCTTGATCAGAATGTTGGCTCTGCCCCCTTAGTGGTTGTGAAACCCTGAGCATGTTATTTCACATCTCTCTGAAATATGTATATTTTCTCCCCTGTTAATGATCACTTTGGATTAGATAATATCTAAAATATCTTCCATCTTGAATCTCCATAACTGCGTGTACTCCATGTGCAGTCTATGGTAGCTACCTACGCCACATGTGGCTATTTAAACTTACCCTCACA\"\n",
    "\n",
    "(seq.count(\"C\") + seq.count(\"G\"))  / len(seq)"
   ]
  },
  {
   "cell_type": "code",
   "execution_count": 48,
   "metadata": {},
   "outputs": [
    {
     "name": "stdout",
     "output_type": "stream",
     "text": [
      "52\n"
     ]
    }
   ],
   "source": [
    "with open(\"ancient_erv_analysis/data/2_simulated_sequences/segment_8938_9248/alignment.root\", \"rb\") as f:\n",
    "    root_seq = str(f.read()).strip()\n",
    "    print(root_seq.count(\"C\"))\n",
    "    "
   ]
  },
  {
   "cell_type": "code",
   "execution_count": 49,
   "metadata": {},
   "outputs": [
    {
     "data": {
      "text/plain": [
       "0.24640000000000004"
      ]
     },
     "execution_count": 49,
     "metadata": {},
     "output_type": "execute_result"
    }
   ],
   "source": [
    ".44*(1.-.44)"
   ]
  },
  {
   "cell_type": "code",
   "execution_count": null,
   "metadata": {},
   "outputs": [],
   "source": []
  }
 ],
 "metadata": {
  "kernelspec": {
   "display_name": "Python 3",
   "language": "python",
   "name": "python3"
  },
  "language_info": {
   "codemirror_mode": {
    "name": "ipython",
    "version": 3
   },
   "file_extension": ".py",
   "mimetype": "text/x-python",
   "name": "python",
   "nbconvert_exporter": "python",
   "pygments_lexer": "ipython3",
   "version": "3.7.6"
  }
 },
 "nbformat": 4,
 "nbformat_minor": 4
}
